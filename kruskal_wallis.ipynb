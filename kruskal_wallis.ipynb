{
 "cells": [
  {
   "cell_type": "markdown",
   "metadata": {},
   "source": [
    "# 📊 Kruskal–Wallis Test in R (Jupyter Notebook)\n",
    "This notebook runs through the Kruskal–Wallis test and post-hoc Dunn test, adapted from DataNovia’s \"Kruskal‑Wallis test in R\" tutorial."
   ]
  },
  {
   "cell_type": "code",
   "execution_count": null,
   "metadata": {},
   "outputs": [],
   "source": [
    "# Install required packages (if not already installed)\n",
    "if (!requireNamespace(\"rstatix\", quietly = TRUE)) install.packages(\"rstatix\")\n",
    "if (!requireNamespace(\"ggpubr\", quietly = TRUE)) install.packages(\"ggpubr\")\n",
    "if (!requireNamespace(\"dunn.test\", quietly = TRUE)) install.packages(\"dunn.test\")\n",
    "if (!requireNamespace(\"PMCMRplus\", quietly = TRUE)) install.packages(\"PMCMRplus\")\n",
    "\n",
    "# Load libraries\n",
    "library(rstatix)\n",
    "library(ggpubr)\n",
    "library(dplyr)\n",
    "library(PMCMRplus)"
   ]
  },
  {
   "cell_type": "code",
   "execution_count": null,
   "metadata": {},
   "outputs": [],
   "source": [
    "# Example dataset: three groups with different medians\n",
    "set.seed(2025)\n",
    "data <- data.frame(\n",
    "  group = factor(rep(c(\"A\", \"B\", \"C\"), each = 20)),\n",
    "  value = c(rnorm(20, 5, 1), rnorm(20, 7, 1), rnorm(20, 9, 1))\n",
    ")\n",
    "head(data)"
   ]
  },
  {
   "cell_type": "code",
   "execution_count": null,
   "metadata": {},
   "outputs": [],
   "source": [
    "# 🔍 Summary statistics by group (median & IQR)\n",
    "data %>% group_by(group) %>% get_summary_stats(value, type = \"median_iqr\")"
   ]
  },
  {
   "cell_type": "code",
   "execution_count": null,
   "metadata": {},
   "outputs": [],
   "source": [
    "# 📦 Visualize with boxplot + jitter\n",
    "ggboxplot(data, x = \"group\", y = \"value\", add = c(\"jitter\", \"mean\"),\n",
    "          palette = \"jco\", title = \"Values by Group\")"
   ]
  },
  {
   "cell_type": "code",
   "execution_count": null,
   "metadata": {},
   "outputs": [],
   "source": [
    "# 🧮 Kruskal–Wallis test\n",
    "kw_test <- data %>% kruskal_test(value ~ group)\n",
    "kw_test"
   ]
  },
  {
   "cell_type": "code",
   "execution_count": null,
   "metadata": {},
   "outputs": [],
   "source": [
    "# 📉 Effect size for Kruskal–Wallis (eta-squared)\n",
    "data %>% kruskal_effsize(value ~ group)"
   ]
  },
  {
   "cell_type": "code",
   "execution_count": null,
   "metadata": {},
   "outputs": [],
   "source": [
    "# 🔍 Post‑hoc Dunn test with Bonferroni correction\n",
    "dunn_res <- dunnTest(value ~ group, data = data, method = \"bonferroni\")\n",
    "dunn_res"
   ]
  },
  {
   "cell_type": "code",
   "execution_count": null,
   "metadata": {},
   "outputs": [],
   "source": [
    "# 📊 Visualize pairwise comparisons\n",
    "dunn_df <- as.data.frame(dunn_res$res)\n",
    "dunn_df <- dunn_df %>% mutate(p.sign = ifelse(P.adj < 0.05, \"*\", \"ns\"))\n",
    "\n",
    "ggboxplot(data, x = \"group\", y = \"value\", palette = \"jco\") +\n",
    "  stat_pvalue_manual(dunn_df, label = \"p.sign\", y.position = c(11, 12, 13)) +\n",
    "  labs(title = \"Post-hoc Dunn Test Results\")"
   ]
  },
  {
   "cell_type": "markdown",
   "metadata": {},
   "source": [
    "## ✅ Interpretation\n",
    "- The **Kruskal–Wallis test** (`kruskal_test`) tells us *whether* there's at least one significant difference among groups.\n",
    "- `kruskal_effsize()` outputs η², helping assess effect magnitude.\n",
    "- The **Dunn test** pinpointed *which specific pairs* differ, with Bonferroni correction controlling for multiple testing.\n",
    "\n",
    "---🎉 You're all set to run and interpret the Kruskal–Wallis test (with post‑hoc Dunn) in Jupyter using R!"
   ]
  }
 ],
 "metadata": {
  "kernelspec": {
   "display_name": "R",
   "language": "R",
   "name": "ir"
  },
  "language_info": {
   "name": "R"
  }
 },
 "nbformat": 4,
 "nbformat_minor": 2
}